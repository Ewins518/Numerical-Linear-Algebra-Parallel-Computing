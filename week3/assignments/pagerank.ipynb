{
 "cells": [
  {
   "cell_type": "markdown",
   "id": "87d64ccf",
   "metadata": {},
   "source": [
    "Use this cell for all your imports"
   ]
  },
  {
   "cell_type": "code",
   "execution_count": 10,
   "id": "40623a0d",
   "metadata": {},
   "outputs": [],
   "source": [
    "import numpy as np\n",
    "import scipy as sp\n",
    "import scipy.sparse as sparse\n",
    "from scipy.sparse import coo_matrix, csr_matrix"
   ]
  },
  {
   "cell_type": "markdown",
   "id": "164f305b",
   "metadata": {},
   "source": [
    "You will be working with the file data.txt. Use this cell to load its content into the appropriate data structure."
   ]
  },
  {
   "cell_type": "code",
   "execution_count": 2,
   "id": "be42fee4",
   "metadata": {},
   "outputs": [
    {
     "data": {
      "text/plain": [
       "array([[   1001, 9304045],\n",
       "       [   1001, 9308122],\n",
       "       [   1001, 9309097],\n",
       "       ...,\n",
       "       [9912286, 9808140],\n",
       "       [9912286, 9810068],\n",
       "       [9912286, 9901023]])"
      ]
     },
     "execution_count": 2,
     "metadata": {},
     "output_type": "execute_result"
    }
   ],
   "source": [
    "data = np.loadtxt('data.txt', dtype=int)\n",
    "data"
   ]
  },
  {
   "cell_type": "markdown",
   "id": "4c7a8af4",
   "metadata": {},
   "source": [
    "Use this cell to normalize the matrix as you see fit."
   ]
  },
  {
   "cell_type": "code",
   "execution_count": 12,
   "id": "2e612783",
   "metadata": {},
   "outputs": [],
   "source": [
    "num_nodes = len(set(data.flatten()))\n",
    "\n",
    "adj_matrix = csr_matrix((np.ones(len(data)), (data[:, 0], data[:, 1])), shape=(num_nodes, num_nodes))"
   ]
  },
  {
   "cell_type": "markdown",
   "id": "5a4ee89a",
   "metadata": {},
   "source": [
    "Apply the PageRank algorithm to the matrix you created."
   ]
  },
  {
   "cell_type": "code",
   "execution_count": 4,
   "id": "ae9319ef",
   "metadata": {},
   "outputs": [
    {
     "name": "stdout",
     "output_type": "stream",
     "text": [
      "  (0, 1)\t0.4923\n",
      "  (1, 2)\t0.0999\n",
      "  (2, 1)\t0.2132\n",
      "  (2, 3)\t0.0178\n",
      "  (2, 4)\t0.5694\n",
      "  (3, 0)\t0.0406\n",
      "  (3, 2)\t0.2047\n",
      "  (4, 0)\t0.861\n",
      "  (4, 2)\t0.3849\n",
      "  (4, 3)\t0.4829\n"
     ]
    },
    {
     "name": "stderr",
     "output_type": "stream",
     "text": [
      "/tmp/ipykernel_9511/1225938064.py:2: DeprecationWarning: scipy.array is deprecated and will be removed in SciPy 2.0.0, use numpy.array instead\n",
      "  edges1 = sp.array([[0, 1],\n"
     ]
    }
   ],
   "source": [
    "n1 = 5\n",
    "edges1 = sp.array([[0, 1],\n",
    "                   [1, 2],\n",
    "                   [2, 1],\n",
    "                   [2, 3],\n",
    "                   [2, 4],\n",
    "                   [3, 0],\n",
    "                   [3, 2],\n",
    "                   [4, 0],\n",
    "                   [4, 2],\n",
    "                   [4, 3]])\n",
    "weights1 = [0.4923,\n",
    "            0.0999,\n",
    "            0.2132,\n",
    "            0.0178,\n",
    "            0.5694,\n",
    "            0.0406,\n",
    "            0.2047,\n",
    "            0.8610,\n",
    "            0.3849,\n",
    "            0.4829]\n",
    "\n",
    "G2 = sparse.csr_matrix((weights1, (edges1[:, 0], edges1[:, 1])), shape=(n1, n1))\n",
    "print(G2)"
   ]
  },
  {
   "cell_type": "markdown",
   "id": "005047ad",
   "metadata": {},
   "source": [
    "Output a list of the 100 most important papers along with their importance"
   ]
  },
  {
   "cell_type": "code",
   "execution_count": null,
   "id": "46d1896d",
   "metadata": {},
   "outputs": [],
   "source": []
  },
  {
   "cell_type": "markdown",
   "id": "b0ba2208",
   "metadata": {},
   "source": [
    "Visualize your results"
   ]
  },
  {
   "cell_type": "code",
   "execution_count": null,
   "id": "25affee6",
   "metadata": {},
   "outputs": [],
   "source": []
  }
 ],
 "metadata": {
  "kernelspec": {
   "display_name": "Python 3 (ipykernel)",
   "language": "python",
   "name": "python3"
  },
  "language_info": {
   "codemirror_mode": {
    "name": "ipython",
    "version": 3
   },
   "file_extension": ".py",
   "mimetype": "text/x-python",
   "name": "python",
   "nbconvert_exporter": "python",
   "pygments_lexer": "ipython3",
   "version": "3.9.13"
  }
 },
 "nbformat": 4,
 "nbformat_minor": 5
}
