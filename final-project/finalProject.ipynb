{
  "cells": [
    {
      "cell_type": "markdown",
      "id": "9ac88de7",
      "metadata": {
        "id": "9ac88de7"
      },
      "source": [
        "# Final Project"
      ]
    },
    {
      "cell_type": "markdown",
      "id": "c1f9c6ee",
      "metadata": {
        "id": "c1f9c6ee"
      },
      "source": [
        "## Part 1"
      ]
    },
    {
      "cell_type": "markdown",
      "id": "c194fd99",
      "metadata": {
        "id": "c194fd99"
      },
      "source": [
        "The cell below is for imports. You are only allowed to use `numpy` for this part.No additional imports are allowed"
      ]
    },
    {
      "cell_type": "code",
      "source": [
        "!pip install mpi4py"
      ],
      "metadata": {
        "colab": {
          "base_uri": "https://localhost:8080/"
        },
        "id": "DAGkhrvECNjh",
        "outputId": "019ce114-a71e-4458-df27-d01c727deb38"
      },
      "id": "DAGkhrvECNjh",
      "execution_count": 1,
      "outputs": [
        {
          "output_type": "stream",
          "name": "stdout",
          "text": [
            "Looking in indexes: https://pypi.org/simple, https://us-python.pkg.dev/colab-wheels/public/simple/\n",
            "Collecting mpi4py\n",
            "  Downloading mpi4py-3.1.4.tar.gz (2.5 MB)\n",
            "\u001b[2K     \u001b[90m━━━━━━━━━━━━━━━━━━━━━━━━━━━━━━━━━━━━━━━━\u001b[0m \u001b[32m2.5/2.5 MB\u001b[0m \u001b[31m6.5 MB/s\u001b[0m eta \u001b[36m0:00:00\u001b[0m\n",
            "\u001b[?25h  Installing build dependencies ... \u001b[?25l\u001b[?25hdone\n",
            "  Getting requirements to build wheel ... \u001b[?25l\u001b[?25hdone\n",
            "  Preparing metadata (pyproject.toml) ... \u001b[?25l\u001b[?25hdone\n",
            "Building wheels for collected packages: mpi4py\n",
            "  Building wheel for mpi4py (pyproject.toml) ... \u001b[?25l\u001b[?25hdone\n",
            "  Created wheel for mpi4py: filename=mpi4py-3.1.4-cp39-cp39-linux_x86_64.whl size=3380634 sha256=98257263e2067f49c97503b51b9767166452fdbc3955d3c0485de5c60516a01a\n",
            "  Stored in directory: /root/.cache/pip/wheels/db/81/9f/43a031fce121c845baca1c5d9a1468cad98208286aa2832de9\n",
            "Successfully built mpi4py\n",
            "Installing collected packages: mpi4py\n",
            "Successfully installed mpi4py-3.1.4\n"
          ]
        }
      ]
    },
    {
      "cell_type": "code",
      "source": [
        "import os\n",
        "arch = os.getenv(\"ARGS\", \"real\")"
      ],
      "metadata": {
        "id": "yfUlGkhmCx6n"
      },
      "id": "yfUlGkhmCx6n",
      "execution_count": 2,
      "outputs": []
    },
    {
      "cell_type": "code",
      "source": [
        "try:\n",
        "    import google.colab  # noqa: F401\n",
        "except ImportError:\n",
        "    import petsc4py\n",
        "else:\n",
        "    try:\n",
        "        import petsc4py\n",
        "    except ImportError:\n",
        "        if arch != \"complex\":\n",
        "            !wget \"https://fem-on-colab.github.io/releases/petsc4py-install-real.sh\" -O \"/tmp/petsc4py-install.sh\" && bash \"/tmp/petsc4py-install.sh\"\n",
        "        else:\n",
        "            !wget \"https://fem-on-colab.github.io/releases/petsc4py-install-complex.sh\" -O \"/tmp/petsc4py-install.sh\" && bash \"/tmp/petsc4py-install.sh\"\n",
        "        import petsc4py"
      ],
      "metadata": {
        "id": "Q8k0wAT7C10A"
      },
      "id": "Q8k0wAT7C10A",
      "execution_count": null,
      "outputs": []
    },
    {
      "cell_type": "code",
      "execution_count": 4,
      "id": "7ec9748a",
      "metadata": {
        "id": "7ec9748a"
      },
      "outputs": [],
      "source": [
        "import numpy as np\n",
        "from mpi4py import MPI\n",
        "from petsc4py import PETSc\n",
        "\n",
        "comm   = MPI.COMM_WORLD\n",
        "nprocs = comm.Get_size()\n",
        "rank   = comm.Get_rank()"
      ]
    },
    {
      "cell_type": "markdown",
      "id": "cc7db55b",
      "metadata": {
        "id": "cc7db55b"
      },
      "source": [
        "Now, we will create our class `SparseMatrix`"
      ]
    },
    {
      "cell_type": "markdown",
      "id": "ae185b22",
      "metadata": {
        "id": "ae185b22"
      },
      "source": [
        "The class will represent a sparse matrix in `COO` format.\\\n",
        "it should also keep track of the shape of the matrix.\\\n",
        "You need to add the necessary attributes to your class to account for the aforementioned requirements"
      ]
    },
    {
      "cell_type": "markdown",
      "id": "406a53b0",
      "metadata": {
        "id": "406a53b0"
      },
      "source": [
        "Let's start with the `__init__` method of our class:\\\n",
        "it should take one additional argument `arg` that will represent the various objects from which we can instantiate our class."
      ]
    },
    {
      "cell_type": "markdown",
      "id": "98fc47d4",
      "metadata": {
        "id": "98fc47d4"
      },
      "source": [
        "First, we should be able to construct an instance of our class from a regular `numpy` 2d array. \\\n",
        "Inside the `__init__` method, check if `arg` is an instance of a `numpy` array. \\\n",
        "Then, check if the provided array represents a valid matrix.\\\n",
        "If it is not the case, an exception should be raised "
      ]
    },
    {
      "cell_type": "code",
      "execution_count": 5,
      "id": "d70820f1",
      "metadata": {
        "id": "d70820f1"
      },
      "outputs": [],
      "source": [
        "class SparseMatrix:    \n",
        "    def __init__(self, arg):\n",
        "        if isinstance(arg, np.ndarray):\n",
        "            if arg.ndim != 2:\n",
        "                raise ValueError(\"Input array must be 2D\")\n",
        "            self.data = arg[np.nonzero(arg)] # get nonzero elements of the array\n",
        "            self.row_indices, self.col_indices = np.nonzero(arg) # get row and column indices of nonzero elements\n",
        "            self.shape = arg.shape\n",
        "        else:\n",
        "            raise TypeError(\"Input must be a numpy array\")\n",
        "        "
      ]
    },
    {
      "cell_type": "markdown",
      "id": "7546ed1e",
      "metadata": {
        "id": "7546ed1e"
      },
      "source": [
        "Next, we should be able to construct an instance of our class from a tuple of 3 `numpy` arrays representing a matrix in `COO` format (x, Y, Values)\\\n",
        "Extend the __init__ method by checking if arg is an instance of this case.\n",
        "Then, check if the provided array represents a valid matrix.\n",
        "If it is not the case, an exception should be raised"
      ]
    },
    {
      "cell_type": "code",
      "execution_count": 6,
      "id": "3f6a8951",
      "metadata": {
        "id": "3f6a8951"
      },
      "outputs": [],
      "source": [
        "class SparseMatrix:\n",
        "    def __init__(self, arg):\n",
        "        if isinstance(arg, np.ndarray):\n",
        "            if arg.ndim != 2:\n",
        "                raise ValueError(\"Input array must be 2D\")\n",
        "            self.data = arg[np.nonzero(arg)] # get nonzero elements of the array\n",
        "            self.row_indices, self.col_indices = np.nonzero(arg) # get row and column indices of nonzero elements\n",
        "            self.shape = arg.shape\n",
        "        elif isinstance(arg, tuple) and len(arg) == 3:\n",
        "            if not all(isinstance(arr, np.ndarray) for arr in arg):\n",
        "                raise TypeError(\"All elements of the input tuple must be numpy arrays\")\n",
        "            if not all(arr.ndim == 1 for arr in arg):\n",
        "                raise ValueError(\"All arrays in the input tuple must be 1D\")\n",
        "            if not all(arr.shape == arg[0].shape for arr in arg):\n",
        "                raise ValueError(\"All arrays in the input tuple must have the same shape\")\n",
        "            self.row_indices, self.col_indices, self.data = arg\n",
        "            self.shape = arg[0].shape\n",
        "        else:\n",
        "            raise TypeError(\"Input must be a numpy array or a tuple of three numpy arrays\")\n"
      ]
    },
    {
      "cell_type": "markdown",
      "id": "52e34f2f",
      "metadata": {
        "id": "52e34f2f"
      },
      "source": [
        "Create a function `cooTranspose` that takes an instance of our class `SparseMatrix` and returns its transpose."
      ]
    },
    {
      "cell_type": "code",
      "execution_count": 7,
      "id": "da54df57",
      "metadata": {
        "id": "da54df57"
      },
      "outputs": [],
      "source": [
        "def cooTranspose(a):\n",
        "    transposed_indices = np.vstack((a.col_indices, a.row_indices))\n",
        "    transposed_data = a.data\n",
        "    transposed_shape = tuple(reversed(a.shape))\n",
        "    return SparseMatrix((transposed_indices[0], transposed_indices[1], transposed_data))"
      ]
    },
    {
      "cell_type": "markdown",
      "id": "43ff9748",
      "metadata": {
        "id": "43ff9748"
      },
      "source": [
        "Create a function `cooMatVec` that takes an instance of our class `SparseMatrix` and a vector \\ \n",
        "as a `numpy` array and returns their product."
      ]
    },
    {
      "cell_type": "code",
      "execution_count": 8,
      "id": "3d6d0c8c",
      "metadata": {
        "id": "3d6d0c8c"
      },
      "outputs": [],
      "source": [
        "def cooMatVec(A, x):\n",
        "    if A.shape[1] != x.shape[0]:\n",
        "        raise ValueError(\"Matrix and vector dimensions do not match\")\n",
        "    \n",
        "    # Initialize the result vector\n",
        "    result = np.zeros(A.shape[0])\n",
        "    \n",
        "    # Loop over the non-zero elements of the matrix and add their contributions to the result vector\n",
        "    for i in range(A.data.shape[0]):\n",
        "        result[A.row_indices[i]] += A.data[i] * x[A.col_indices[i]]\n",
        "    \n",
        "    return result\n"
      ]
    },
    {
      "cell_type": "markdown",
      "id": "6dde3a44",
      "metadata": {
        "id": "6dde3a44"
      },
      "source": [
        "create a function cooMatMat that takes two instances of our class `SparseMatrix` and \\ \n",
        "returns their matrix product as a 2 dimentional numpy array"
      ]
    },
    {
      "cell_type": "code",
      "execution_count": 9,
      "id": "c318df2a",
      "metadata": {
        "id": "c318df2a"
      },
      "outputs": [],
      "source": [
        "def cooMatMat(A, B):\n",
        "    if A.shape[1] != B.shape[0]:\n",
        "        raise ValueError(\"Matrix dimensions do not match for matrix multiplication\")\n",
        "\n",
        "    # Initialize the result matrix\n",
        "    result = np.zeros((A.shape[0], B.shape[1]))\n",
        "\n",
        "    # Loop over the non-zero elements of the first matrix\n",
        "    for i in range(A.data.shape[0]):\n",
        "        row = A.row_indices[i]\n",
        "        col = A.col_indices[i]\n",
        "        value = A.data[i]\n",
        "\n",
        "        # Loop over the non-zero elements of the second matrix with matching column index\n",
        "        for j in range(B.data.shape[0]):\n",
        "            if B.row_indices[j] == col:\n",
        "                result[row, B.col_indices[j]] += value * B.data[j]\n",
        "\n",
        "    return result"
      ]
    },
    {
      "cell_type": "code",
      "execution_count": 10,
      "id": "b3af7a58",
      "metadata": {
        "colab": {
          "base_uri": "https://localhost:8080/"
        },
        "id": "b3af7a58",
        "outputId": "394684b4-c430-4b06-9977-971a0098ccce"
      },
      "outputs": [
        {
          "output_type": "stream",
          "name": "stdout",
          "text": [
            "Sparse matrix data: [1 2 3 4 5]\n",
            "Sparse matrix row indices: [0 0 1 2 2]\n",
            "Sparse matrix column indices: [0 2 1 0 2]\n",
            "Sparse matrix shape: (3, 3)\n",
            "Transposed sparse matrix data: [1 2 3 4 5]\n",
            "Transposed sparse matrix row indices: [0 2 1 0 2]\n",
            "Transposed sparse matrix column indices: [0 0 1 2 2]\n",
            "Transposed sparse matrix shape: (5,)\n",
            "Product of sparse matrix and vector: [ 7.  6. 19.]\n",
            "Product of sparse matrices: \n",
            "[[ 7.  0.]\n",
            " [ 0.  6.]\n",
            " [19.  0.]]\n"
          ]
        }
      ],
      "source": [
        "# Define a test matrix\n",
        "A = np.array([[1, 0, 2], [0, 3, 0], [4, 0, 5]])\n",
        "\n",
        "# Create a SparseMatrix instance from the test matrix\n",
        "A_sparse = SparseMatrix(A)\n",
        "\n",
        "# Print the attributes of the SparseMatrix instance\n",
        "print(\"Sparse matrix data:\", A_sparse.data)\n",
        "print(\"Sparse matrix row indices:\", A_sparse.row_indices)\n",
        "print(\"Sparse matrix column indices:\", A_sparse.col_indices)\n",
        "print(\"Sparse matrix shape:\", A_sparse.shape)\n",
        "\n",
        "# Transpose the SparseMatrix instance\n",
        "A_transpose = cooTranspose(A_sparse)\n",
        "\n",
        "# Print the attributes of the transposed SparseMatrix instance\n",
        "print(\"Transposed sparse matrix data:\", A_transpose.data)\n",
        "print(\"Transposed sparse matrix row indices:\", A_transpose.row_indices)\n",
        "print(\"Transposed sparse matrix column indices:\", A_transpose.col_indices)\n",
        "print(\"Transposed sparse matrix shape:\", A_transpose.shape)\n",
        "\n",
        "# Define a test vector\n",
        "x = np.array([1, 2, 3])\n",
        "\n",
        "# Compute the product of the SparseMatrix instance and the test vector\n",
        "Ax = cooMatVec(A_sparse, x)\n",
        "\n",
        "# Print the product of the SparseMatrix instance and the test vector\n",
        "print(\"Product of sparse matrix and vector:\", Ax)\n",
        "\n",
        "# Define a second test matrix\n",
        "B = np.array([[1, 0], [0, 2], [3, 0]])\n",
        "\n",
        "# Create a SparseMatrix instance from the second test matrix\n",
        "B_sparse = SparseMatrix(B)\n",
        "\n",
        "# Compute the product of the two SparseMatrix instances\n",
        "AB = cooMatMat(A_sparse, B_sparse)\n",
        "\n",
        "# Print the product of the two SparseMatrix instances\n",
        "print(\"Product of sparse matrices: \")\n",
        "print(AB)\n"
      ]
    },
    {
      "cell_type": "code",
      "execution_count": 11,
      "id": "af271af2",
      "metadata": {
        "colab": {
          "base_uri": "https://localhost:8080/"
        },
        "id": "af271af2",
        "outputId": "6142df0e-99b7-4ea5-8bc1-31767fd35c24"
      },
      "outputs": [
        {
          "output_type": "stream",
          "name": "stdout",
          "text": [
            "[[ 7  0]\n",
            " [ 0  6]\n",
            " [19  0]]\n",
            "\n",
            "[ 7  6 19]\n"
          ]
        }
      ],
      "source": [
        "A = np.array([[1, 0, 2], [0, 3, 0], [4, 0, 5]])\n",
        "B = np.array([[1, 0], [0, 2], [3, 0]])\n",
        "x = np.array([1, 2, 3])\n",
        "print(A@B)\n",
        "print()\n",
        "print(A@x)"
      ]
    },
    {
      "cell_type": "markdown",
      "id": "07f382b8",
      "metadata": {
        "id": "07f382b8"
      },
      "source": [
        "# Part 2"
      ]
    },
    {
      "cell_type": "markdown",
      "id": "c085bc0b",
      "metadata": {
        "id": "c085bc0b"
      },
      "source": [
        "In this part, we will be solving a system of linear equations involving a sparse matrix `A` in parallel. \\\n",
        "You will not have to solve the system. However, you will have to implement the function `CreateLocalMatVec` that sets the system for the class `LinearSystem`. \\\n",
        "At the end, compare the results and explain any discrepancies."
      ]
    },
    {
      "cell_type": "code",
      "execution_count": 12,
      "id": "ed40937f",
      "metadata": {
        "id": "ed40937f"
      },
      "outputs": [],
      "source": [
        "#Create the matrix and Rhs\n",
        "np.random.seed(42)\n",
        "from scipy.sparse import random\n",
        "if rank == 0:\n",
        "    n = 100\n",
        "    # Set parameters for the sparse matrix\n",
        "    density = 0.3 # density of non-zero elements (between 0 and 1)\n",
        "    A =  random(n, n, density=density, format='csr')\n",
        "    x = np.random.rand(n)\n",
        "    B_all = np.dot(A.toarray(),x)\n",
        "else:\n",
        "    A = None\n",
        "    B_all = None"
      ]
    },
    {
      "cell_type": "code",
      "execution_count": 13,
      "id": "d402b839",
      "metadata": {
        "id": "d402b839"
      },
      "outputs": [],
      "source": [
        "def CreateLocalMatVec(A, B_all):\n",
        "    if rank == 0:\n",
        "        shape = A.shape\n",
        "        nrows = shape[0]\n",
        "        # split the number of rows evenly (as possible) among the MPI tasks\n",
        "        N_pertask, extra = divmod(nrows, nprocs)\n",
        "    \n",
        "        # count: the size of each sub-task\n",
        "        count = [N_pertask + 1 if i < extra else N_pertask for i in range(nprocs)]\n",
        "\n",
        "        # displacement: the starting index of each sub-task\n",
        "        displ = [sum(count[:i]) for i in range(nprocs)]\n",
        "\n",
        "        #---- Send the relevant subsets of A and B to each slave MPI task ----\n",
        "        for i in range(1,nprocs):\n",
        "    \n",
        "            # Get the start and end row index for this MPI task\n",
        "            rstart = displ[i]\n",
        "            rend   = rstart + count[i]\n",
        "    \n",
        "            #---- Get the subsets of A and B using these rows ----\n",
        "            A_indptr  = A.indptr[rstart:rend+1] - A.indptr[rstart]\n",
        "            pstart    = A.indptr[rstart]\n",
        "            pend      = A.indptr[rend]\n",
        "    \n",
        "            A_indices = A.indices[pstart:pend]\n",
        "            A_data    = A.data[pstart:pend]\n",
        "            B         = B_all[rstart:rend]\n",
        "    \n",
        "            # Save the lengths of each array\n",
        "            lengths = {\n",
        "                    'A_indptr' : len(A_indptr),\n",
        "                    'A_indices': len(A_indices),\n",
        "                    'A_data'   : len(A_data),\n",
        "                    'B'        : len(B),\n",
        "                    }\n",
        "    \n",
        "            # Send the arrays and their lenghts to the relevant MPI task\n",
        "            comm.send(lengths, dest=i, tag=1)\n",
        "            comm.Send(A_indptr,  dest=i, tag=2)\n",
        "            comm.Send(A_indices, dest=i, tag=3)\n",
        "            comm.Send(A_data,    dest=i, tag=4)\n",
        "            comm.Send(B,         dest=i, tag=5)\n",
        "    \n",
        "        #---- Set the relevant subsets of A and B for the master MPI task (we don't need to do an MPI Send)\n",
        "        rstart = displ[0]\n",
        "        rend   = rstart + count[0]\n",
        "    \n",
        "        A_indptr  = A.indptr[rstart:rend+1] - A.indptr[rstart]\n",
        "        pstart    = A.indptr[rstart]\n",
        "        pend      = A.indptr[rend]\n",
        "    \n",
        "        A_indices = A.indices[pstart:pend]\n",
        "        A_data    = A.data[pstart:pend]\n",
        "        B         = B_all[rstart:rend]\n",
        "    \n",
        "    else:\n",
        "        # Receive the array lengths\n",
        "        lengths   = comm.recv(source=0, tag=1)\n",
        "        # Initialise the buffers\n",
        "        A_indptr  = np.empty(lengths['A_indptr'], dtype=np.intc)\n",
        "        A_indices = np.empty(lengths['A_indices'], dtype=np.intc)\n",
        "        A_data    = np.empty(lengths['A_data'], dtype=np.float64)\n",
        "        B         = np.empty(lengths['B'], dtype=np.float64)\n",
        "        # Receive the arrays\n",
        "        comm.Recv(A_indptr,  source=0, tag=2)\n",
        "        comm.Recv(A_indices, source=0, tag=3)\n",
        "        comm.Recv(A_data,    source=0, tag=4)\n",
        "        comm.Recv(B,         source=0, tag=5)\n",
        "    \n",
        "        shape = None\n",
        "    \n",
        "    #broadcast shape\n",
        "    shape = comm.bcast(shape, root=0)\n",
        "        \n",
        "    return (A_indptr, A_indices, A_data, B, shape)\n"
      ]
    },
    {
      "cell_type": "code",
      "execution_count": 14,
      "id": "094c5f84",
      "metadata": {
        "id": "094c5f84"
      },
      "outputs": [],
      "source": [
        "class LinearSystem():\n",
        "    def __init__(self, A=None, shape=None, rhs=None, solver=None, comm=None):\n",
        "        \n",
        "        #from petsc4py import PETSc\n",
        "        self.opts = PETSc.Options()\n",
        "\n",
        "        self.ksp = PETSc.KSP()\n",
        "        self.ksp.create()\n",
        "        \n",
        "        mat = PETSc.Mat().createAIJ(comm=comm, size=shape, csr=A)\n",
        "        mat.setUp()\n",
        "        mat.assemblyBegin()\n",
        "        mat.assemblyEnd()\n",
        "        self.sol, self.rhs = mat.getVecs()\n",
        "        self.rhs.setArray(rhs)\n",
        "        \n",
        "        \n",
        "        #---- Set up solver -----\n",
        "        self.ksp = PETSc.KSP().create(comm=comm)\n",
        "        \n",
        "        # It is commonly used with the direct solver preconditioners like PCLU and PCCHOLESKY\n",
        "        self.ksp.setType('preonly')\n",
        "        pc = self.ksp.getPC()\n",
        "        pc.setType('lu')\n",
        "        pc.setFactorSolverType(solver)\n",
        "        \n",
        "        self.ksp.setOperators(mat)\n",
        "        self.ksp.setFromOptions() # Apply any command line options\n",
        "        self.ksp.setUp()\n",
        "    \n",
        "    def solve(self): \n",
        "        # st=timeit.default_timer()\n",
        "        self.ksp.solve(self.rhs, self.sol)"
      ]
    },
    {
      "cell_type": "code",
      "execution_count": 15,
      "id": "98c3267a",
      "metadata": {
        "colab": {
          "base_uri": "https://localhost:8080/"
        },
        "id": "98c3267a",
        "outputId": "d6de8dde-6394-460a-dbe4-7644ec8c4438"
      },
      "outputs": [
        {
          "output_type": "stream",
          "name": "stdout",
          "text": [
            "Timing to solve the linear system with petsc 0.0006531859999938661\n"
          ]
        }
      ],
      "source": [
        "(A_indptr, A_indices, A_data, b, shape) = CreateLocalMatVec(A, B_all)\n",
        "\n",
        "L = LinearSystem(A=(A_indptr, A_indices, A_data), rhs=b, shape=shape, solver=\"mumps\")\n",
        "ts = MPI.Wtime()\n",
        "L.solve()\n",
        "te = MPI.Wtime()\n",
        "tt = comm.reduce(te - ts, op=MPI.MAX, root=0)\n",
        "if rank == 0:\n",
        "    print(\"Timing to solve the linear system with petsc\", tt)"
      ]
    },
    {
      "cell_type": "code",
      "execution_count": 16,
      "id": "b658cf09",
      "metadata": {
        "id": "b658cf09"
      },
      "outputs": [],
      "source": [
        "#---- Gather the solution onto a single array on the master MPI task\n",
        "if rank == 0:\n",
        "    X = np.empty(shape[0],dtype=np.double)\n",
        "else:\n",
        "    X = None\n",
        "comm.Gatherv(L.sol.array,X)"
      ]
    },
    {
      "cell_type": "code",
      "execution_count": 18,
      "id": "37b14595",
      "metadata": {
        "colab": {
          "base_uri": "https://localhost:8080/"
        },
        "id": "37b14595",
        "outputId": "dad55d76-9ece-44de-d636-05b67560a3de"
      },
      "outputs": [
        {
          "output_type": "stream",
          "name": "stdout",
          "text": [
            "Timing to solve the linear system with spsolve 0.0033241539999977476\n"
          ]
        }
      ],
      "source": [
        "np.random.seed(42)\n",
        "\n",
        "if rank == 0:\n",
        "    B = SparseMatrix(A.toarray())\n",
        "    \n",
        "    from scipy import sparse\n",
        "    from scipy.sparse.linalg import spsolve\n",
        "    mat = sparse.csr_matrix((B.data, (B.row_indices, B.col_indices)))\n",
        "    ts = MPI.Wtime()\n",
        "    sol = spsolve(mat, b)\n",
        "    te = MPI.Wtime()\n",
        "    print(\"Timing to solve the linear system with spsolve\", te - ts)"
      ]
    },
    {
      "cell_type": "code",
      "execution_count": 19,
      "id": "60d948f8",
      "metadata": {
        "colab": {
          "base_uri": "https://localhost:8080/"
        },
        "id": "60d948f8",
        "outputId": "9aa6212f-05cc-4d3c-addb-29595b3c6006"
      },
      "outputs": [
        {
          "output_type": "stream",
          "name": "stdout",
          "text": [
            "True\n"
          ]
        }
      ],
      "source": [
        "if rank == 0:\n",
        "    print(np.allclose(X,sol))"
      ]
    },
    {
      "cell_type": "markdown",
      "id": "b0e57535",
      "metadata": {
        "id": "b0e57535"
      },
      "source": [
        "Put your response below:\n",
        "\n",
        "**The two methods use different solvers to solve the linear system. The first method uses the MUMPS direct solver through the PETSc library, while the second method uses the spsolve function from the SciPy library, which is based on the SuperLU direct solver**.\n",
        "\n",
        "**The MUMPS solver is generally faster and more efficient for solving sparse linear systems with symmetric positive-definite matrices, while SuperLU is designed to work with general sparse matrices.**\n",
        "\n",
        "**The PETSc method has a timing of 0.000653 seconds, while the SciPy method has a timing of 0.00332 seconds, indicating that the PETSc method is faster.**\n",
        "\n",
        "**However, both methods produce the same solution, as confirmed by the np.allclose comparison, which returns True. Therefore, the discrepancies in timing are due to differences in the algorithms and libraries used, and not due to differences in the solutions produced.**\n",
        "\n"
      ]
    },
    {
      "cell_type": "markdown",
      "id": "05c04c32",
      "metadata": {
        "id": "05c04c32"
      },
      "source": []
    }
  ],
  "metadata": {
    "kernelspec": {
      "display_name": "Python 3 (ipykernel)",
      "language": "python",
      "name": "python3"
    },
    "language_info": {
      "codemirror_mode": {
        "name": "ipython",
        "version": 3
      },
      "file_extension": ".py",
      "mimetype": "text/x-python",
      "name": "python",
      "nbconvert_exporter": "python",
      "pygments_lexer": "ipython3",
      "version": "3.9.13"
    },
    "colab": {
      "provenance": []
    }
  },
  "nbformat": 4,
  "nbformat_minor": 5
}